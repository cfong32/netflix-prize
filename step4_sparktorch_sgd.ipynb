{
  "cells": [
    {
      "cell_type": "markdown",
      "metadata": {
        "id": "view-in-github",
        "colab_type": "text"
      },
      "source": [
        "<a href=\"https://colab.research.google.com/github/cfong32/netflix-prize/blob/main/step4_sparktorch_sgd.ipynb\" target=\"_parent\"><img src=\"https://colab.research.google.com/assets/colab-badge.svg\" alt=\"Open In Colab\"/></a>"
      ]
    },
    {
      "cell_type": "code",
      "execution_count": null,
      "metadata": {
        "id": "RvCDa7u6D-Vz"
      },
      "outputs": [],
      "source": [
        "# download preprocessed dataset\n",
        "!wget -qO ratings_M50.csv https://uoguelphca-my.sharepoint.com/:x:/g/personal/chungyan_uoguelph_ca/EWqG6YIAGfpLihYVvtpMeRQB1ngfhPZPydHCoUL87QR3yA?download=1\n",
        "!wget -qO ratings_M1000.csv https://uoguelphca-my.sharepoint.com/:x:/g/personal/chungyan_uoguelph_ca/ESYy4ukVKs9DkY6-YVBh-0kBr5uQE29dC1Tq0PRi_tJJhg?download=1"
      ]
    },
    {
      "cell_type": "code",
      "execution_count": null,
      "metadata": {
        "colab": {
          "base_uri": "https://localhost:8080/"
        },
        "id": "COMO9FRMhvAw",
        "outputId": "9a9acdd1-3eac-426a-8416-5b6b1f19ae70"
      },
      "outputs": [
        {
          "output_type": "stream",
          "name": "stdout",
          "text": [
            "  Preparing metadata (setup.py) ... \u001b[?25l\u001b[?25hdone\n",
            "\u001b[2K     \u001b[90m━━━━━━━━━━━━━━━━━━━━━━━━━━━━━━━━━━━━━━━\u001b[0m \u001b[32m281.4/281.4 MB\u001b[0m \u001b[31m3.4 MB/s\u001b[0m eta \u001b[36m0:00:00\u001b[0m\n",
            "\u001b[?25h  Preparing metadata (setup.py) ... \u001b[?25l\u001b[?25hdone\n",
            "\u001b[2K     \u001b[90m━━━━━━━━━━━━━━━━━━━━━━━━━━━━━━━━━━━━━━━\u001b[0m \u001b[32m110.5/110.5 KB\u001b[0m \u001b[31m7.4 MB/s\u001b[0m eta \u001b[36m0:00:00\u001b[0m\n",
            "\u001b[2K     \u001b[90m━━━━━━━━━━━━━━━━━━━━━━━━━━━━━━━━━━━━━━\u001b[0m \u001b[32m199.7/199.7 KB\u001b[0m \u001b[31m13.6 MB/s\u001b[0m eta \u001b[36m0:00:00\u001b[0m\n",
            "\u001b[?25h  Building wheel for sparktorch (setup.py) ... \u001b[?25l\u001b[?25hdone\n",
            "  Building wheel for pyspark (setup.py) ... \u001b[?25l\u001b[?25hdone\n"
          ]
        }
      ],
      "source": [
        "!pip -q install sparktorch pyspark"
      ]
    },
    {
      "cell_type": "code",
      "execution_count": 1,
      "metadata": {
        "id": "XEbQ_24YECF9",
        "colab": {
          "base_uri": "https://localhost:8080/"
        },
        "outputId": "06dfb62c-239e-4716-a310-6ed684055d2b"
      },
      "outputs": [
        {
          "output_type": "stream",
          "name": "stderr",
          "text": [
            "/usr/local/lib/python3.9/dist-packages/pyspark/pandas/__init__.py:49: UserWarning: 'PYARROW_IGNORE_TIMEZONE' environment variable was not set. It is required to set this environment variable to '1' in both driver and executor sides if you use pyarrow>=2.0.0. pandas-on-Spark will set it for you but it does not work if there is a Spark context already launched.\n",
            "  warnings.warn(\n"
          ]
        }
      ],
      "source": [
        "import numpy as np\n",
        "import pandas as pd\n",
        "import torch\n",
        "import torch.nn as nn\n",
        "import torch.nn.functional as F\n",
        "import torch.optim as optim\n",
        "import matplotlib.pyplot as plt\n",
        "import pyspark.pandas as ps\n",
        "from sparktorch import serialize_torch_obj, SparkTorch\n",
        "from pyspark.sql import SparkSession\n",
        "from pyspark.sql.functions import col, rand, floor\n",
        "from pyspark.ml.feature import VectorAssembler\n",
        "from pyspark.ml.pipeline import Pipeline\n",
        "ps.options.display.max_rows = 5"
      ]
    },
    {
      "cell_type": "code",
      "execution_count": 2,
      "metadata": {
        "colab": {
          "base_uri": "https://localhost:8080/",
          "height": 308
        },
        "id": "szdZRnCjo5s5",
        "outputId": "bd7092c3-3aa5-49fa-e6fe-ba7854204571"
      },
      "outputs": [
        {
          "output_type": "stream",
          "name": "stderr",
          "text": [
            "/usr/local/lib/python3.9/dist-packages/pyspark/pandas/utils.py:975: PandasAPIOnSparkAdviceWarning: If `index_col` is not specified for `read_csv`, the default index is attached which can cause additional overhead.\n",
            "  warnings.warn(message, PandasAPIOnSparkAdviceWarning)\n"
          ]
        },
        {
          "output_type": "stream",
          "name": "stdout",
          "text": [
            "num_user: 111 num_movie: 50\n"
          ]
        },
        {
          "output_type": "display_data",
          "data": {
            "text/plain": [
              "   user  movie  rating     label\n",
              "0     0      0       4  0.666667\n",
              "1     1      0       3  0.500000\n",
              "2     2      0       2  0.333333\n",
              "3     3      0       4  0.666667\n",
              "4     4      0       4  0.666667\n",
              "\n",
              "[Showing only the first 5 rows x 4 columns]"
            ],
            "text/html": [
              "<div>\n",
              "<style scoped>\n",
              "    .dataframe tbody tr th:only-of-type {\n",
              "        vertical-align: middle;\n",
              "    }\n",
              "\n",
              "    .dataframe tbody tr th {\n",
              "        vertical-align: top;\n",
              "    }\n",
              "\n",
              "    .dataframe thead th {\n",
              "        text-align: right;\n",
              "    }\n",
              "</style>\n",
              "<table border=\"1\" class=\"dataframe\">\n",
              "  <thead>\n",
              "    <tr style=\"text-align: right;\">\n",
              "      <th></th>\n",
              "      <th>user</th>\n",
              "      <th>movie</th>\n",
              "      <th>rating</th>\n",
              "      <th>label</th>\n",
              "    </tr>\n",
              "  </thead>\n",
              "  <tbody>\n",
              "    <tr>\n",
              "      <th>0</th>\n",
              "      <td>0</td>\n",
              "      <td>0</td>\n",
              "      <td>4</td>\n",
              "      <td>0.666667</td>\n",
              "    </tr>\n",
              "    <tr>\n",
              "      <th>1</th>\n",
              "      <td>1</td>\n",
              "      <td>0</td>\n",
              "      <td>3</td>\n",
              "      <td>0.500000</td>\n",
              "    </tr>\n",
              "    <tr>\n",
              "      <th>2</th>\n",
              "      <td>2</td>\n",
              "      <td>0</td>\n",
              "      <td>2</td>\n",
              "      <td>0.333333</td>\n",
              "    </tr>\n",
              "    <tr>\n",
              "      <th>3</th>\n",
              "      <td>3</td>\n",
              "      <td>0</td>\n",
              "      <td>4</td>\n",
              "      <td>0.666667</td>\n",
              "    </tr>\n",
              "    <tr>\n",
              "      <th>4</th>\n",
              "      <td>4</td>\n",
              "      <td>0</td>\n",
              "      <td>4</td>\n",
              "      <td>0.666667</td>\n",
              "    </tr>\n",
              "  </tbody>\n",
              "</table>\n",
              "<p>Showing only the first 5 rows × 4 columns</p>\n",
              "</div>"
            ]
          },
          "metadata": {}
        }
      ],
      "source": [
        "# read dataset into dataframe\n",
        "\n",
        "spark = SparkSession.builder.appName(\"MyApp\").master('local').getOrCreate()\n",
        "df = ps.read_csv('ratings_M50.csv')\n",
        "df['label'] = df.rating / 6\n",
        "N = df.user.nunique()\n",
        "M = df.movie.nunique()\n",
        "\n",
        "print('num_user:', N, 'num_movie:', M)\n",
        "display(df)"
      ]
    },
    {
      "cell_type": "code",
      "execution_count": 3,
      "metadata": {
        "colab": {
          "base_uri": "https://localhost:8080/"
        },
        "id": "58qhKfCyFoC-",
        "outputId": "a3b55e17-6433-4b94-ae61-1a7f0999a4e8"
      },
      "outputs": [
        {
          "output_type": "stream",
          "name": "stderr",
          "text": [
            "/usr/local/lib/python3.9/dist-packages/pyspark/pandas/utils.py:975: PandasAPIOnSparkAdviceWarning: If `index_col` is not specified for `to_spark`, the existing index is lost when converting to Spark DataFrame.\n",
            "  warnings.warn(message, PandasAPIOnSparkAdviceWarning)\n"
          ]
        },
        {
          "output_type": "stream",
          "name": "stdout",
          "text": [
            "+----+-----+------+-------------------+----+---------+\n",
            "|user|movie|rating|              label|fold| features|\n",
            "+----+-----+------+-------------------+----+---------+\n",
            "|   0|    0|     4| 0.6666666666666666|   1|(2,[],[])|\n",
            "|   2|    0|     2| 0.3333333333333333|   3|[2.0,0.0]|\n",
            "|   3|    0|     4| 0.6666666666666666|   4|[3.0,0.0]|\n",
            "|   5|    0|     2| 0.3333333333333333|   2|[5.0,0.0]|\n",
            "|   6|    0|     1|0.16666666666666666|   4|[6.0,0.0]|\n",
            "+----+-----+------+-------------------+----+---------+\n",
            "only showing top 5 rows\n",
            "\n",
            "+----+-----+------+------------------+----+----------+\n",
            "|user|movie|rating|             label|fold|  features|\n",
            "+----+-----+------+------------------+----+----------+\n",
            "|   1|    0|     3|               0.5|   0| [1.0,0.0]|\n",
            "|   4|    0|     4|0.6666666666666666|   0| [4.0,0.0]|\n",
            "|   9|    0|     4|0.6666666666666666|   0| [9.0,0.0]|\n",
            "|  18|    0|     5|0.8333333333333334|   0|[18.0,0.0]|\n",
            "|  24|    0|     3|               0.5|   0|[24.0,0.0]|\n",
            "+----+-----+------+------------------+----+----------+\n",
            "only showing top 5 rows\n",
            "\n"
          ]
        }
      ],
      "source": [
        "# split data into train and test sets\n",
        "\n",
        "max_test_split = 0.2        # for a smaller dataset, we take 20% for test\n",
        "max_test_num = 100_000      # for a larger dataset, we take 100_000 only\n",
        "num_fold = 1 / min(max_test_num/len(df), max_test_split)\n",
        "\n",
        "df = df.to_spark().withColumn('fold', floor(rand()*num_fold))\n",
        "df_train = df.filter(col('fold') != 0)\n",
        "df_test  = df.filter(col('fold') == 0)\n",
        "\n",
        "va = VectorAssembler(inputCols=['user', 'movie'], outputCol='features')\n",
        "df_train = va.transform(df_train)\n",
        "df_test  = va.transform(df_test)\n",
        "\n",
        "df_train.show(5)\n",
        "df_test.show(5)"
      ]
    },
    {
      "cell_type": "code",
      "execution_count": 4,
      "metadata": {
        "id": "PGI1qVPnox9J"
      },
      "outputs": [],
      "source": [
        "# build the matrix-multiplication-based model\n",
        "\n",
        "class MatrixMultiplicationModel(nn.Module):\n",
        "    def __init__(self, num_user, num_movie, emb_dim):\n",
        "        super().__init__()\n",
        "        self.U = nn.Embedding(num_user, emb_dim)    # matrix U, user embeddings, sized N-by-D\n",
        "        self.V = nn.Embedding(num_movie, emb_dim)   # matrix V, movie embeddings, sized M-by-D\n",
        "        \n",
        "    def forward(self, um_idxs):\n",
        "        u_idx, m_idx = um_idxs[:,0].int(), um_idxs[:,1].int()\n",
        "        U = self.U(u_idx)                           # retrieve user embeddings by user indexes\n",
        "        V = self.V(m_idx)                           # retrieve movie embeddings by movie indexes\n",
        "        dot_products = (U*V).sum(dim=1)             # predicted ratings are their dot products\n",
        "        # output = torch.sigmoid(dot_products)      # map to [0,1]\n",
        "        output = dot_products\n",
        "        return output"
      ]
    },
    {
      "cell_type": "code",
      "source": [
        "# set hyperparameters\n",
        "D = 10              # embedding dimension\n",
        "lr = 1e-3           # learning rate\n",
        "batch_size = 256\n",
        "max_loop = 200_000\n",
        "report_per_nloop = 100\n",
        "patience = 10       # early stop if not improving in this num of evaluations\n",
        "optimizer=torch.optim.Adam\n",
        "\n",
        "# initialize model and ...\n",
        "py_model = MatrixMultiplicationModel(num_user =N,\n",
        "                                     num_movie=M,\n",
        "                                     emb_dim  =D)\n",
        "criterion = nn.MSELoss()\n",
        "Optimizer = optim.Adam\n",
        "\n",
        "# Build the pytorch object\n",
        "torch_obj = serialize_torch_obj(\n",
        "    model=py_model,\n",
        "    criterion=criterion,\n",
        "    optimizer=Optimizer,\n",
        "    lr=lr,\n",
        ")"
      ],
      "metadata": {
        "id": "Ve0lXhH4Fi1M"
      },
      "execution_count": 5,
      "outputs": []
    },
    {
      "cell_type": "code",
      "source": [
        "# prepare test data\n",
        "test_x = torch.IntTensor(df_test.select('user', 'movie').collect())\n",
        "test_y = torch.FloatTensor(df_test.select('label').collect()).squeeze()"
      ],
      "metadata": {
        "id": "JMcnzyIIFkdT"
      },
      "execution_count": 6,
      "outputs": []
    },
    {
      "cell_type": "code",
      "source": [
        "# train\n",
        "\n",
        "min_test_loss = None\n",
        "recs = []\n",
        "for i in range(max_loop):\n",
        "    \n",
        "    # fit for {report_per_nloop} loops\n",
        "    torch_obj = serialize_torch_obj(\n",
        "        model=py_model,\n",
        "        criterion=criterion,\n",
        "        optimizer=Optimizer,\n",
        "        lr=lr,\n",
        "    )\n",
        "    spark_model = SparkTorch(\n",
        "        inputCol='features',\n",
        "        labelCol='label',\n",
        "        predictionCol='prediction',\n",
        "        torchObj=torch_obj,\n",
        "        iters=report_per_nloop,\n",
        "        miniBatch=batch_size,\n",
        "        verbose=1,\n",
        "    ).fit(df_train)\n",
        "\n",
        "    # calculate test loss\n",
        "    py_model = spark_model.getPytorchModel()\n",
        "    with torch.no_grad():\n",
        "        test_y_hat = py_model(test_x)\n",
        "    test_loss = criterion(test_y_hat, test_y).item()\n",
        "\n",
        "    rec = {\n",
        "        'batch'     : i*report_per_nloop,\n",
        "        'test_loss' : test_loss,\n",
        "    }\n",
        "    recs.append(rec)\n",
        "    print(rec)\n",
        "\n",
        "    # check for early stopping\n",
        "    if min_test_loss is None or test_loss < min_test_loss:\n",
        "        min_test_loss = test_loss\n",
        "        not_improving_count = 0\n",
        "    else:\n",
        "        not_improving_count += 1\n",
        "        if not_improving_count >= patience:\n",
        "            break"
      ],
      "metadata": {
        "colab": {
          "base_uri": "https://localhost:8080/"
        },
        "id": "0tB8HtYCFka8",
        "outputId": "d914972f-c879-4dd9-c674-31b483e07633"
      },
      "execution_count": 7,
      "outputs": [
        {
          "output_type": "stream",
          "name": "stdout",
          "text": [
            "{'batch': 0, 'test_loss': 7.4906005859375}\n"
          ]
        },
        {
          "output_type": "stream",
          "name": "stderr",
          "text": [
            "/usr/local/lib/python3.9/dist-packages/torch/nn/modules/loss.py:536: UserWarning: Using a target size (torch.Size([323, 1])) that is different to the input size (torch.Size([323])). This will likely lead to incorrect results due to broadcasting. Please ensure they have the same size.\n",
            "  return F.mse_loss(input, target, reduction=self.reduction)\n"
          ]
        },
        {
          "output_type": "stream",
          "name": "stdout",
          "text": [
            "{'batch': 100, 'test_loss': 6.312375545501709}\n",
            "{'batch': 200, 'test_loss': 5.30979585647583}\n",
            "{'batch': 300, 'test_loss': 4.488776683807373}\n",
            "{'batch': 400, 'test_loss': 3.8037056922912598}\n",
            "{'batch': 500, 'test_loss': 3.2397568225860596}\n",
            "{'batch': 600, 'test_loss': 2.7720396518707275}\n",
            "{'batch': 700, 'test_loss': 2.3851144313812256}\n",
            "{'batch': 800, 'test_loss': 2.062774419784546}\n",
            "{'batch': 900, 'test_loss': 1.8003696203231812}\n",
            "{'batch': 1000, 'test_loss': 1.5807698965072632}\n",
            "{'batch': 1100, 'test_loss': 1.4140002727508545}\n",
            "{'batch': 1200, 'test_loss': 1.2741007804870605}\n",
            "{'batch': 1300, 'test_loss': 1.159235954284668}\n",
            "{'batch': 1400, 'test_loss': 1.0648193359375}\n",
            "{'batch': 1500, 'test_loss': 0.9940411448478699}\n",
            "{'batch': 1600, 'test_loss': 0.9259210824966431}\n",
            "{'batch': 1700, 'test_loss': 0.8699048757553101}\n",
            "{'batch': 1800, 'test_loss': 0.8241627812385559}\n",
            "{'batch': 1900, 'test_loss': 0.7802293300628662}\n",
            "{'batch': 2000, 'test_loss': 0.7404780387878418}\n",
            "{'batch': 2100, 'test_loss': 0.7011469602584839}\n",
            "{'batch': 2200, 'test_loss': 0.6623555421829224}\n",
            "{'batch': 2300, 'test_loss': 0.6276178956031799}\n",
            "{'batch': 2400, 'test_loss': 0.5915041565895081}\n",
            "{'batch': 2500, 'test_loss': 0.5588017106056213}\n",
            "{'batch': 2600, 'test_loss': 0.5282593965530396}\n",
            "{'batch': 2700, 'test_loss': 0.4983794391155243}\n",
            "{'batch': 2800, 'test_loss': 0.46765434741973877}\n",
            "{'batch': 2900, 'test_loss': 0.4411871135234833}\n",
            "{'batch': 3000, 'test_loss': 0.41747039556503296}\n",
            "{'batch': 3100, 'test_loss': 0.395317941904068}\n",
            "{'batch': 3200, 'test_loss': 0.3776499629020691}\n",
            "{'batch': 3300, 'test_loss': 0.36002498865127563}\n",
            "{'batch': 3400, 'test_loss': 0.347074955701828}\n",
            "{'batch': 3500, 'test_loss': 0.3346787095069885}\n",
            "{'batch': 3600, 'test_loss': 0.3244212865829468}\n",
            "{'batch': 3700, 'test_loss': 0.31621649861335754}\n",
            "{'batch': 3800, 'test_loss': 0.3090367317199707}\n",
            "{'batch': 3900, 'test_loss': 0.3021867871284485}\n",
            "{'batch': 4000, 'test_loss': 0.2965317964553833}\n",
            "{'batch': 4100, 'test_loss': 0.2917763888835907}\n",
            "{'batch': 4200, 'test_loss': 0.2868214547634125}\n",
            "{'batch': 4300, 'test_loss': 0.28270575404167175}\n",
            "{'batch': 4400, 'test_loss': 0.28006619215011597}\n",
            "{'batch': 4500, 'test_loss': 0.27627092599868774}\n",
            "{'batch': 4600, 'test_loss': 0.27275848388671875}\n",
            "{'batch': 4700, 'test_loss': 0.27130135893821716}\n",
            "{'batch': 4800, 'test_loss': 0.26918351650238037}\n",
            "{'batch': 4900, 'test_loss': 0.26740092039108276}\n",
            "{'batch': 5000, 'test_loss': 0.2657513916492462}\n",
            "{'batch': 5100, 'test_loss': 0.26341116428375244}\n",
            "{'batch': 5200, 'test_loss': 0.26177656650543213}\n",
            "{'batch': 5300, 'test_loss': 0.2606411278247833}\n",
            "{'batch': 5400, 'test_loss': 0.2583625614643097}\n",
            "{'batch': 5500, 'test_loss': 0.2587991952896118}\n",
            "{'batch': 5600, 'test_loss': 0.2558317184448242}\n",
            "{'batch': 5700, 'test_loss': 0.2558516263961792}\n",
            "{'batch': 5800, 'test_loss': 0.25339484214782715}\n",
            "{'batch': 5900, 'test_loss': 0.25275614857673645}\n",
            "{'batch': 6000, 'test_loss': 0.2524099051952362}\n",
            "{'batch': 6100, 'test_loss': 0.25183409452438354}\n",
            "{'batch': 6200, 'test_loss': 0.2505476176738739}\n",
            "{'batch': 6300, 'test_loss': 0.2500338554382324}\n",
            "{'batch': 6400, 'test_loss': 0.24959121644496918}\n",
            "{'batch': 6500, 'test_loss': 0.2488216608762741}\n",
            "{'batch': 6600, 'test_loss': 0.24793004989624023}\n",
            "{'batch': 6700, 'test_loss': 0.24781230092048645}\n",
            "{'batch': 6800, 'test_loss': 0.2475368082523346}\n",
            "{'batch': 6900, 'test_loss': 0.24714578688144684}\n",
            "{'batch': 7000, 'test_loss': 0.24611370265483856}\n",
            "{'batch': 7100, 'test_loss': 0.24617408215999603}\n",
            "{'batch': 7200, 'test_loss': 0.24586033821105957}\n",
            "{'batch': 7300, 'test_loss': 0.24530404806137085}\n",
            "{'batch': 7400, 'test_loss': 0.2449524849653244}\n",
            "{'batch': 7500, 'test_loss': 0.24482017755508423}\n",
            "{'batch': 7600, 'test_loss': 0.24457763135433197}\n",
            "{'batch': 7700, 'test_loss': 0.24451914429664612}\n",
            "{'batch': 7800, 'test_loss': 0.24469493329524994}\n",
            "{'batch': 7900, 'test_loss': 0.24395959079265594}\n",
            "{'batch': 8000, 'test_loss': 0.24352633953094482}\n",
            "{'batch': 8100, 'test_loss': 0.2428545206785202}\n",
            "{'batch': 8200, 'test_loss': 0.24295860528945923}\n",
            "{'batch': 8300, 'test_loss': 0.24247349798679352}\n",
            "{'batch': 8400, 'test_loss': 0.2420995831489563}\n",
            "{'batch': 8500, 'test_loss': 0.24145178496837616}\n",
            "{'batch': 8600, 'test_loss': 0.24099616706371307}\n",
            "{'batch': 8700, 'test_loss': 0.2409208118915558}\n",
            "{'batch': 8800, 'test_loss': 0.2415378838777542}\n",
            "{'batch': 8900, 'test_loss': 0.24083106219768524}\n",
            "{'batch': 9000, 'test_loss': 0.24086865782737732}\n",
            "{'batch': 9100, 'test_loss': 0.23992298543453217}\n",
            "{'batch': 9200, 'test_loss': 0.2394348531961441}\n",
            "{'batch': 9300, 'test_loss': 0.23946787416934967}\n",
            "{'batch': 9400, 'test_loss': 0.23942303657531738}\n",
            "{'batch': 9500, 'test_loss': 0.2393394559621811}\n",
            "{'batch': 9600, 'test_loss': 0.23939605057239532}\n",
            "{'batch': 9700, 'test_loss': 0.23855909705162048}\n",
            "{'batch': 9800, 'test_loss': 0.23854109644889832}\n",
            "{'batch': 9900, 'test_loss': 0.23834455013275146}\n",
            "{'batch': 10000, 'test_loss': 0.23840360343456268}\n",
            "{'batch': 10100, 'test_loss': 0.23799467086791992}\n",
            "{'batch': 10200, 'test_loss': 0.2383614182472229}\n",
            "{'batch': 10300, 'test_loss': 0.2372966706752777}\n",
            "{'batch': 10400, 'test_loss': 0.23762229084968567}\n",
            "{'batch': 10500, 'test_loss': 0.23743896186351776}\n",
            "{'batch': 10600, 'test_loss': 0.2379477173089981}\n",
            "{'batch': 10700, 'test_loss': 0.23685643076896667}\n",
            "{'batch': 10800, 'test_loss': 0.2362837791442871}\n",
            "{'batch': 10900, 'test_loss': 0.23700973391532898}\n",
            "{'batch': 11000, 'test_loss': 0.23675192892551422}\n",
            "{'batch': 11100, 'test_loss': 0.23644204437732697}\n",
            "{'batch': 11200, 'test_loss': 0.23568452894687653}\n",
            "{'batch': 11300, 'test_loss': 0.23544728755950928}\n",
            "{'batch': 11400, 'test_loss': 0.235900416970253}\n",
            "{'batch': 11500, 'test_loss': 0.23544852435588837}\n",
            "{'batch': 11600, 'test_loss': 0.2353578805923462}\n",
            "{'batch': 11700, 'test_loss': 0.23559854924678802}\n",
            "{'batch': 11800, 'test_loss': 0.23487959802150726}\n",
            "{'batch': 11900, 'test_loss': 0.2342609167098999}\n",
            "{'batch': 12000, 'test_loss': 0.23408010601997375}\n",
            "{'batch': 12100, 'test_loss': 0.23486842215061188}\n",
            "{'batch': 12200, 'test_loss': 0.23512718081474304}\n",
            "{'batch': 12300, 'test_loss': 0.23306185007095337}\n",
            "{'batch': 12400, 'test_loss': 0.23338979482650757}\n",
            "{'batch': 12500, 'test_loss': 0.23366977274417877}\n",
            "{'batch': 12600, 'test_loss': 0.23324763774871826}\n",
            "{'batch': 12700, 'test_loss': 0.23323991894721985}\n",
            "{'batch': 12800, 'test_loss': 0.23317165672779083}\n",
            "{'batch': 12900, 'test_loss': 0.23357698321342468}\n",
            "{'batch': 13000, 'test_loss': 0.2331036627292633}\n",
            "{'batch': 13100, 'test_loss': 0.23326516151428223}\n",
            "{'batch': 13200, 'test_loss': 0.23380813002586365}\n",
            "{'batch': 13300, 'test_loss': 0.23298606276512146}\n",
            "{'batch': 13400, 'test_loss': 0.2331693023443222}\n",
            "{'batch': 13500, 'test_loss': 0.23371601104736328}\n",
            "{'batch': 13600, 'test_loss': 0.23260372877120972}\n",
            "{'batch': 13700, 'test_loss': 0.2321576327085495}\n",
            "{'batch': 13800, 'test_loss': 0.23159538209438324}\n",
            "{'batch': 13900, 'test_loss': 0.23248817026615143}\n",
            "{'batch': 14000, 'test_loss': 0.2320198118686676}\n",
            "{'batch': 14100, 'test_loss': 0.2316930592060089}\n",
            "{'batch': 14200, 'test_loss': 0.23157382011413574}\n",
            "{'batch': 14300, 'test_loss': 0.23190434277057648}\n",
            "{'batch': 14400, 'test_loss': 0.23099106550216675}\n",
            "{'batch': 14500, 'test_loss': 0.23198632895946503}\n",
            "{'batch': 14600, 'test_loss': 0.23149113357067108}\n",
            "{'batch': 14700, 'test_loss': 0.23134122788906097}\n",
            "{'batch': 14800, 'test_loss': 0.23129214346408844}\n",
            "{'batch': 14900, 'test_loss': 0.23142565786838531}\n",
            "{'batch': 15000, 'test_loss': 0.23178836703300476}\n",
            "{'batch': 15100, 'test_loss': 0.23120932281017303}\n",
            "{'batch': 15200, 'test_loss': 0.23183821141719818}\n",
            "{'batch': 15300, 'test_loss': 0.23139190673828125}\n",
            "{'batch': 15400, 'test_loss': 0.23100906610488892}\n"
          ]
        }
      ]
    },
    {
      "cell_type": "code",
      "source": [
        "# training curves\n",
        "pd.DataFrame(recs).set_index('batch')[['test_loss']].plot(logy=True)"
      ],
      "metadata": {
        "id": "YySIcvBJFkYu",
        "colab": {
          "base_uri": "https://localhost:8080/",
          "height": 466
        },
        "outputId": "b0cc52c0-b42c-48a6-d9cc-1bdf14a6e504"
      },
      "execution_count": 11,
      "outputs": [
        {
          "output_type": "execute_result",
          "data": {
            "text/plain": [
              "<Axes: xlabel='batch'>"
            ]
          },
          "metadata": {},
          "execution_count": 11
        },
        {
          "output_type": "display_data",
          "data": {
            "text/plain": [
              "<Figure size 640x480 with 1 Axes>"
            ],
            "image/png": "[encoded data removed]"
          },
          "metadata": {}
        }
      ]
    },
    {
      "cell_type": "code",
      "source": [
        "# resulted U and V\n",
        "U = py_model.U.weight\n",
        "V = py_model.V.weight\n",
        "\n",
        "print('first few rows of,')\n",
        "print('U:', U[:3])\n",
        "print('V:', V[:3])"
      ],
      "metadata": {
        "id": "Fpda5KtFFkWU",
        "colab": {
          "base_uri": "https://localhost:8080/"
        },
        "outputId": "aecd3452-2a5a-454f-d77f-c53837c618ff"
      },
      "execution_count": 12,
      "outputs": [
        {
          "output_type": "stream",
          "name": "stdout",
          "text": [
            "first few rows of,\n",
            "U: tensor([[ 0.6967,  0.6866,  0.0280,  0.1050,  0.3767,  1.1250, -0.7690, -0.2510,\n",
            "         -0.4349, -0.2069],\n",
            "        [-0.0032,  0.4835,  0.1148,  0.1132,  0.3690,  1.6749, -0.6475, -0.0955,\n",
            "          0.2919,  0.6920],\n",
            "        [-0.5016, -0.4060,  0.7731,  0.1813, -0.6502,  1.1282, -0.4825, -0.3310,\n",
            "          0.0756,  0.4406]], grad_fn=<SliceBackward0>)\n",
            "V: tensor([[-1.3139e-01, -1.2171e-01, -5.8159e-01,  1.6790e-01, -3.8479e-01,\n",
            "          9.9550e-02, -8.4584e-01,  8.3006e-02, -6.1765e-02,  2.5607e-03],\n",
            "        [ 3.1243e-01,  6.1670e-01,  1.5600e-01,  4.5107e-01, -9.2874e-01,\n",
            "         -1.2377e+00, -1.0072e+00,  4.6784e-01,  3.7709e-01,  1.3670e+00],\n",
            "        [-8.8881e-02, -3.4260e-01, -9.4524e-02, -2.4638e-01, -4.3292e-02,\n",
            "          6.5917e-01, -3.8155e-02,  4.4153e-01, -1.0540e-03, -6.0763e-01]],\n",
            "       grad_fn=<SliceBackward0>)\n"
          ]
        }
      ]
    },
    {
      "cell_type": "code",
      "execution_count": 13,
      "metadata": {
        "id": "FqiMnN7Snq0H",
        "colab": {
          "base_uri": "https://localhost:8080/",
          "height": 363
        },
        "outputId": "4873ff06-a272-459d-e943-917537592eb2"
      },
      "outputs": [
        {
          "output_type": "execute_result",
          "data": {
            "text/plain": [
              "     user  movie  rating     label  fold       features  target_pred  \\\n",
              "141    34     24       1  0.166667     0   [34.0, 24.0]     0.449247   \n",
              "194    35     29       4  0.666667     0   [35.0, 29.0]     0.443900   \n",
              "281     7     44       1  0.166667     0    [7.0, 44.0]     0.445544   \n",
              "291    10     45       4  0.666667     0   [10.0, 45.0]     0.510801   \n",
              "13     54      2       1  0.166667     0    [54.0, 2.0]     0.440918   \n",
              "124     0     23       1  0.166667     0    [0.0, 23.0]     0.446684   \n",
              "135   110     23       3  0.500000     0  [110.0, 23.0]     0.433896   \n",
              "79     53     16       2  0.333333     0   [53.0, 16.0]     0.429391   \n",
              "47     79     11       1  0.166667     0   [79.0, 11.0]    -1.207856   \n",
              "36      2      8       1  0.166667     0     [2.0, 8.0]    -0.129260   \n",
              "\n",
              "     rating_pred  rating_residual  \n",
              "141     2.695485        -1.695485  \n",
              "194     2.663400         1.336600  \n",
              "281     2.673267        -1.673267  \n",
              "291     3.064806         0.935194  \n",
              "13      2.645509        -1.645509  \n",
              "124     2.680102        -1.680102  \n",
              "135     2.603377         0.396623  \n",
              "79      2.576344        -0.576344  \n",
              "47      1.000000         0.000000  \n",
              "36      1.000000         0.000000  "
            ],
            "text/html": [
              "\n",
              "  <div id=\"df-02be5e78-08c1-4e82-a080-4f83b8dfb41f\">\n",
              "    <div class=\"colab-df-container\">\n",
              "      <div>\n",
              "<style scoped>\n",
              "    .dataframe tbody tr th:only-of-type {\n",
              "        vertical-align: middle;\n",
              "    }\n",
              "\n",
              "    .dataframe tbody tr th {\n",
              "        vertical-align: top;\n",
              "    }\n",
              "\n",
              "    .dataframe thead th {\n",
              "        text-align: right;\n",
              "    }\n",
              "</style>\n",
              "<table border=\"1\" class=\"dataframe\">\n",
              "  <thead>\n",
              "    <tr style=\"text-align: right;\">\n",
              "      <th></th>\n",
              "      <th>user</th>\n",
              "      <th>movie</th>\n",
              "      <th>rating</th>\n",
              "      <th>label</th>\n",
              "      <th>fold</th>\n",
              "      <th>features</th>\n",
              "      <th>target_pred</th>\n",
              "      <th>rating_pred</th>\n",
              "      <th>rating_residual</th>\n",
              "    </tr>\n",
              "  </thead>\n",
              "  <tbody>\n",
              "    <tr>\n",
              "      <th>141</th>\n",
              "      <td>34</td>\n",
              "      <td>24</td>\n",
              "      <td>1</td>\n",
              "      <td>0.166667</td>\n",
              "      <td>0</td>\n",
              "      <td>[34.0, 24.0]</td>\n",
              "      <td>0.449247</td>\n",
              "      <td>2.695485</td>\n",
              "      <td>-1.695485</td>\n",
              "    </tr>\n",
              "    <tr>\n",
              "      <th>194</th>\n",
              "      <td>35</td>\n",
              "      <td>29</td>\n",
              "      <td>4</td>\n",
              "      <td>0.666667</td>\n",
              "      <td>0</td>\n",
              "      <td>[35.0, 29.0]</td>\n",
              "      <td>0.443900</td>\n",
              "      <td>2.663400</td>\n",
              "      <td>1.336600</td>\n",
              "    </tr>\n",
              "    <tr>\n",
              "      <th>281</th>\n",
              "      <td>7</td>\n",
              "      <td>44</td>\n",
              "      <td>1</td>\n",
              "      <td>0.166667</td>\n",
              "      <td>0</td>\n",
              "      <td>[7.0, 44.0]</td>\n",
              "      <td>0.445544</td>\n",
              "      <td>2.673267</td>\n",
              "      <td>-1.673267</td>\n",
              "    </tr>\n",
              "    <tr>\n",
              "      <th>291</th>\n",
              "      <td>10</td>\n",
              "      <td>45</td>\n",
              "      <td>4</td>\n",
              "      <td>0.666667</td>\n",
              "      <td>0</td>\n",
              "      <td>[10.0, 45.0]</td>\n",
              "      <td>0.510801</td>\n",
              "      <td>3.064806</td>\n",
              "      <td>0.935194</td>\n",
              "    </tr>\n",
              "    <tr>\n",
              "      <th>13</th>\n",
              "      <td>54</td>\n",
              "      <td>2</td>\n",
              "      <td>1</td>\n",
              "      <td>0.166667</td>\n",
              "      <td>0</td>\n",
              "      <td>[54.0, 2.0]</td>\n",
              "      <td>0.440918</td>\n",
              "      <td>2.645509</td>\n",
              "      <td>-1.645509</td>\n",
              "    </tr>\n",
              "    <tr>\n",
              "      <th>124</th>\n",
              "      <td>0</td>\n",
              "      <td>23</td>\n",
              "      <td>1</td>\n",
              "      <td>0.166667</td>\n",
              "      <td>0</td>\n",
              "      <td>[0.0, 23.0]</td>\n",
              "      <td>0.446684</td>\n",
              "      <td>2.680102</td>\n",
              "      <td>-1.680102</td>\n",
              "    </tr>\n",
              "    <tr>\n",
              "      <th>135</th>\n",
              "      <td>110</td>\n",
              "      <td>23</td>\n",
              "      <td>3</td>\n",
              "      <td>0.500000</td>\n",
              "      <td>0</td>\n",
              "      <td>[110.0, 23.0]</td>\n",
              "      <td>0.433896</td>\n",
              "      <td>2.603377</td>\n",
              "      <td>0.396623</td>\n",
              "    </tr>\n",
              "    <tr>\n",
              "      <th>79</th>\n",
              "      <td>53</td>\n",
              "      <td>16</td>\n",
              "      <td>2</td>\n",
              "      <td>0.333333</td>\n",
              "      <td>0</td>\n",
              "      <td>[53.0, 16.0]</td>\n",
              "      <td>0.429391</td>\n",
              "      <td>2.576344</td>\n",
              "      <td>-0.576344</td>\n",
              "    </tr>\n",
              "    <tr>\n",
              "      <th>47</th>\n",
              "      <td>79</td>\n",
              "      <td>11</td>\n",
              "      <td>1</td>\n",
              "      <td>0.166667</td>\n",
              "      <td>0</td>\n",
              "      <td>[79.0, 11.0]</td>\n",
              "      <td>-1.207856</td>\n",
              "      <td>1.000000</td>\n",
              "      <td>0.000000</td>\n",
              "    </tr>\n",
              "    <tr>\n",
              "      <th>36</th>\n",
              "      <td>2</td>\n",
              "      <td>8</td>\n",
              "      <td>1</td>\n",
              "      <td>0.166667</td>\n",
              "      <td>0</td>\n",
              "      <td>[2.0, 8.0]</td>\n",
              "      <td>-0.129260</td>\n",
              "      <td>1.000000</td>\n",
              "      <td>0.000000</td>\n",
              "    </tr>\n",
              "  </tbody>\n",
              "</table>\n",
              "</div>\n",
              "      <button class=\"colab-df-convert\" onclick=\"convertToInteractive('df-02be5e78-08c1-4e82-a080-4f83b8dfb41f')\"\n",
              "              title=\"Convert this dataframe to an interactive table.\"\n",
              "              style=\"display:none;\">\n",
              "        \n",
              "  <svg xmlns=\"http://www.w3.org/2000/svg\" height=\"24px\"viewBox=\"0 0 24 24\"\n",
              "       width=\"24px\">\n",
              "    <path d=\"M0 0h24v24H0V0z\" fill=\"none\"/>\n",
              "    <path d=\"M18.56 5.44l.94 2.06.94-2.06 2.06-.94-2.06-.94-.94-2.06-.94 2.06-2.06.94zm-11 1L8.5 8.5l.94-2.06 2.06-.94-2.06-.94L8.5 2.5l-.94 2.06-2.06.94zm10 10l.94 2.06.94-2.06 2.06-.94-2.06-.94-.94-2.06-.94 2.06-2.06.94z\"/><path d=\"M17.41 7.96l-1.37-1.37c-.4-.4-.92-.59-1.43-.59-.52 0-1.04.2-1.43.59L10.3 9.45l-7.72 7.72c-.78.78-.78 2.05 0 2.83L4 21.41c.39.39.9.59 1.41.59.51 0 1.02-.2 1.41-.59l7.78-7.78 2.81-2.81c.8-.78.8-2.07 0-2.86zM5.41 20L4 18.59l7.72-7.72 1.47 1.35L5.41 20z\"/>\n",
              "  </svg>\n",
              "      </button>\n",
              "      \n",
              "  <style>\n",
              "    .colab-df-container {\n",
              "      display:flex;\n",
              "      flex-wrap:wrap;\n",
              "      gap: 12px;\n",
              "    }\n",
              "\n",
              "    .colab-df-convert {\n",
              "      background-color: #E8F0FE;\n",
              "      border: none;\n",
              "      border-radius: 50%;\n",
              "      cursor: pointer;\n",
              "      display: none;\n",
              "      fill: #1967D2;\n",
              "      height: 32px;\n",
              "      padding: 0 0 0 0;\n",
              "      width: 32px;\n",
              "    }\n",
              "\n",
              "    .colab-df-convert:hover {\n",
              "      background-color: #E2EBFA;\n",
              "      box-shadow: 0px 1px 2px rgba(60, 64, 67, 0.3), 0px 1px 3px 1px rgba(60, 64, 67, 0.15);\n",
              "      fill: #174EA6;\n",
              "    }\n",
              "\n",
              "    [theme=dark] .colab-df-convert {\n",
              "      background-color: #3B4455;\n",
              "      fill: #D2E3FC;\n",
              "    }\n",
              "\n",
              "    [theme=dark] .colab-df-convert:hover {\n",
              "      background-color: #434B5C;\n",
              "      box-shadow: 0px 1px 3px 1px rgba(0, 0, 0, 0.15);\n",
              "      filter: drop-shadow(0px 1px 2px rgba(0, 0, 0, 0.3));\n",
              "      fill: #FFFFFF;\n",
              "    }\n",
              "  </style>\n",
              "\n",
              "      <script>\n",
              "        const buttonEl =\n",
              "          document.querySelector('#df-02be5e78-08c1-4e82-a080-4f83b8dfb41f button.colab-df-convert');\n",
              "        buttonEl.style.display =\n",
              "          google.colab.kernel.accessAllowed ? 'block' : 'none';\n",
              "\n",
              "        async function convertToInteractive(key) {\n",
              "          const element = document.querySelector('#df-02be5e78-08c1-4e82-a080-4f83b8dfb41f');\n",
              "          const dataTable =\n",
              "            await google.colab.kernel.invokeFunction('convertToInteractive',\n",
              "                                                     [key], {});\n",
              "          if (!dataTable) return;\n",
              "\n",
              "          const docLinkHtml = 'Like what you see? Visit the ' +\n",
              "            '<a target=\"_blank\" href=https://colab.research.google.com/notebooks/data_table.ipynb>data table notebook</a>'\n",
              "            + ' to learn more about interactive tables.';\n",
              "          element.innerHTML = '';\n",
              "          dataTable['output_type'] = 'display_data';\n",
              "          await google.colab.output.renderOutput(dataTable, element);\n",
              "          const docLink = document.createElement('div');\n",
              "          docLink.innerHTML = docLinkHtml;\n",
              "          element.appendChild(docLink);\n",
              "        }\n",
              "      </script>\n",
              "    </div>\n",
              "  </div>\n",
              "  "
            ]
          },
          "metadata": {},
          "execution_count": 13
        }
      ],
      "source": [
        "# prediction results\n",
        "\n",
        "with torch.no_grad():\n",
        "    test_y_hat = py_model(test_x)\n",
        "\n",
        "df_res = (\n",
        "    df_test.toPandas()\n",
        "    .assign(target_pred    =test_y_hat,\n",
        "            rating_pred    =lambda x: (x.target_pred*6).clip(1,5),  # clipped between 1 and 5\n",
        "            rating_residual=lambda x: x.rating - x.rating_pred)\n",
        ")\n",
        "\n",
        "df_res.sample(10)"
      ]
    },
    {
      "cell_type": "code",
      "execution_count": 14,
      "metadata": {
        "colab": {
          "base_uri": "https://localhost:8080/",
          "height": 391
        },
        "id": "6yiFSDMaQ1BM",
        "outputId": "00525984-3c32-4fe6-de7d-c5f5e63b587b"
      },
      "outputs": [
        {
          "output_type": "display_data",
          "data": {
            "text/plain": [
              "<Figure size 1200x400 with 3 Axes>"
            ],
            "image/png": "[encoded data removed]"
          },
          "metadata": {}
        }
      ],
      "source": [
        "# distribution of residuals\n",
        "df_res[['rating_pred', 'rating_residual']].hist(figsize=(12,4), layout=(1,3))\n",
        "plt.show()"
      ]
    },
    {
      "cell_type": "code",
      "execution_count": null,
      "metadata": {
        "id": "81QHigSx5ME5"
      },
      "outputs": [],
      "source": []
    }
  ],
  "metadata": {
    "colab": {
      "provenance": [],
      "authorship_tag": "ABX9TyP+lVNeRYxUmyTx197cMBzu",
      "include_colab_link": true
    },
    "gpuClass": "premium",
    "kernelspec": {
      "display_name": "Python 3 (ipykernel)",
      "language": "python",
      "name": "python3"
    },
    "language_info": {
      "codemirror_mode": {
        "name": "ipython",
        "version": 3
      },
      "file_extension": ".py",
      "mimetype": "text/x-python",
      "name": "python",
      "nbconvert_exporter": "python",
      "pygments_lexer": "ipython3",
      "version": "3.9.13"
    }
  },
  "nbformat": 4,
  "nbformat_minor": 0
}