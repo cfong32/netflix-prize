{
  "nbformat": 4,
  "nbformat_minor": 0,
  "metadata": {
    "colab": {
      "provenance": [],
      "authorship_tag": "ABX9TyN1RBNNpWPMx3crcxq0PKkB",
      "include_colab_link": true
    },
    "kernelspec": {
      "name": "python3",
      "display_name": "Python 3"
    },
    "language_info": {
      "name": "python"
    }
  },
  "cells": [
    {
      "cell_type": "markdown",
      "metadata": {
        "id": "view-in-github",
        "colab_type": "text"
      },
      "source": [
        "<a href=\"https://colab.research.google.com/github/cfong32/netflix-prize/blob/main/step1_dataset_to_dict.ipynb\" target=\"_parent\"><img src=\"https://colab.research.google.com/assets/colab-badge.svg\" alt=\"Open In Colab\"/></a>"
      ]
    },
    {
      "cell_type": "code",
      "source": [
        "import pickle, json\n",
        "from google.colab import files\n",
        "from tqdm import tqdm"
      ],
      "metadata": {
        "id": "XsXZ2jyLgU9U"
      },
      "execution_count": null,
      "outputs": []
    },
    {
      "cell_type": "code",
      "source": [
        "# upload your kaggle.json (your API token)\n",
        "print('upload your kaggle.json (your API token)')\n",
        "files.upload()\n",
        "\n",
        "# download netflix-prize-data from kaggle\n",
        "!pip install -q kaggle\n",
        "!mkdir ~/.kaggle\n",
        "!cp kaggle.json ~/.kaggle/\n",
        "!chmod 600 ~/.kaggle/kaggle.json\n",
        "!kaggle datasets download -d netflix-inc/netflix-prize-data\n",
        "!unzip netflix-prize-data.zip"
      ],
      "metadata": {
        "id": "i7V063dbH6S0",
        "colab": {
          "base_uri": "https://localhost:8080/",
          "height": 247
        },
        "outputId": "e95edddf-119e-41cf-ee05-2c3834f3cdd8"
      },
      "execution_count": 1,
      "outputs": [
        {
          "output_type": "stream",
          "name": "stdout",
          "text": [
            "upload your kaggle.json (your API token)\n"
          ]
        },
        {
          "output_type": "display_data",
          "data": {
            "text/plain": [
              "<IPython.core.display.HTML object>"
            ],
            "text/html": [
              "\n",
              "     <input type=\"file\" id=\"files-fdfee95c-b356-4344-bf4b-b6d2ca75d21c\" name=\"files[]\" multiple disabled\n",
              "        style=\"border:none\" />\n",
              "     <output id=\"result-fdfee95c-b356-4344-bf4b-b6d2ca75d21c\">\n",
              "      Upload widget is only available when the cell has been executed in the\n",
              "      current browser session. Please rerun this cell to enable.\n",
              "      </output>\n",
              "      <script>// Copyright 2017 Google LLC\n",
              "//\n",
              "// Licensed under the Apache License, Version 2.0 (the \"License\");\n",
              "// you may not use this file except in compliance with the License.\n",
              "// You may obtain a copy of the License at\n",
              "//\n",
              "//      http://www.apache.org/licenses/LICENSE-2.0\n",
              "//\n",
              "// Unless required by applicable law or agreed to in writing, software\n",
              "// distributed under the License is distributed on an \"AS IS\" BASIS,\n",
              "// WITHOUT WARRANTIES OR CONDITIONS OF ANY KIND, either express or implied.\n",
              "// See the License for the specific language governing permissions and\n",
              "// limitations under the License.\n",
              "\n",
              "/**\n",
              " * @fileoverview Helpers for google.colab Python module.\n",
              " */\n",
              "(function(scope) {\n",
              "function span(text, styleAttributes = {}) {\n",
              "  const element = document.createElement('span');\n",
              "  element.textContent = text;\n",
              "  for (const key of Object.keys(styleAttributes)) {\n",
              "    element.style[key] = styleAttributes[key];\n",
              "  }\n",
              "  return element;\n",
              "}\n",
              "\n",
              "// Max number of bytes which will be uploaded at a time.\n",
              "const MAX_PAYLOAD_SIZE = 100 * 1024;\n",
              "\n",
              "function _uploadFiles(inputId, outputId) {\n",
              "  const steps = uploadFilesStep(inputId, outputId);\n",
              "  const outputElement = document.getElementById(outputId);\n",
              "  // Cache steps on the outputElement to make it available for the next call\n",
              "  // to uploadFilesContinue from Python.\n",
              "  outputElement.steps = steps;\n",
              "\n",
              "  return _uploadFilesContinue(outputId);\n",
              "}\n",
              "\n",
              "// This is roughly an async generator (not supported in the browser yet),\n",
              "// where there are multiple asynchronous steps and the Python side is going\n",
              "// to poll for completion of each step.\n",
              "// This uses a Promise to block the python side on completion of each step,\n",
              "// then passes the result of the previous step as the input to the next step.\n",
              "function _uploadFilesContinue(outputId) {\n",
              "  const outputElement = document.getElementById(outputId);\n",
              "  const steps = outputElement.steps;\n",
              "\n",
              "  const next = steps.next(outputElement.lastPromiseValue);\n",
              "  return Promise.resolve(next.value.promise).then((value) => {\n",
              "    // Cache the last promise value to make it available to the next\n",
              "    // step of the generator.\n",
              "    outputElement.lastPromiseValue = value;\n",
              "    return next.value.response;\n",
              "  });\n",
              "}\n",
              "\n",
              "/**\n",
              " * Generator function which is called between each async step of the upload\n",
              " * process.\n",
              " * @param {string} inputId Element ID of the input file picker element.\n",
              " * @param {string} outputId Element ID of the output display.\n",
              " * @return {!Iterable<!Object>} Iterable of next steps.\n",
              " */\n",
              "function* uploadFilesStep(inputId, outputId) {\n",
              "  const inputElement = document.getElementById(inputId);\n",
              "  inputElement.disabled = false;\n",
              "\n",
              "  const outputElement = document.getElementById(outputId);\n",
              "  outputElement.innerHTML = '';\n",
              "\n",
              "  const pickedPromise = new Promise((resolve) => {\n",
              "    inputElement.addEventListener('change', (e) => {\n",
              "      resolve(e.target.files);\n",
              "    });\n",
              "  });\n",
              "\n",
              "  const cancel = document.createElement('button');\n",
              "  inputElement.parentElement.appendChild(cancel);\n",
              "  cancel.textContent = 'Cancel upload';\n",
              "  const cancelPromise = new Promise((resolve) => {\n",
              "    cancel.onclick = () => {\n",
              "      resolve(null);\n",
              "    };\n",
              "  });\n",
              "\n",
              "  // Wait for the user to pick the files.\n",
              "  const files = yield {\n",
              "    promise: Promise.race([pickedPromise, cancelPromise]),\n",
              "    response: {\n",
              "      action: 'starting',\n",
              "    }\n",
              "  };\n",
              "\n",
              "  cancel.remove();\n",
              "\n",
              "  // Disable the input element since further picks are not allowed.\n",
              "  inputElement.disabled = true;\n",
              "\n",
              "  if (!files) {\n",
              "    return {\n",
              "      response: {\n",
              "        action: 'complete',\n",
              "      }\n",
              "    };\n",
              "  }\n",
              "\n",
              "  for (const file of files) {\n",
              "    const li = document.createElement('li');\n",
              "    li.append(span(file.name, {fontWeight: 'bold'}));\n",
              "    li.append(span(\n",
              "        `(${file.type || 'n/a'}) - ${file.size} bytes, ` +\n",
              "        `last modified: ${\n",
              "            file.lastModifiedDate ? file.lastModifiedDate.toLocaleDateString() :\n",
              "                                    'n/a'} - `));\n",
              "    const percent = span('0% done');\n",
              "    li.appendChild(percent);\n",
              "\n",
              "    outputElement.appendChild(li);\n",
              "\n",
              "    const fileDataPromise = new Promise((resolve) => {\n",
              "      const reader = new FileReader();\n",
              "      reader.onload = (e) => {\n",
              "        resolve(e.target.result);\n",
              "      };\n",
              "      reader.readAsArrayBuffer(file);\n",
              "    });\n",
              "    // Wait for the data to be ready.\n",
              "    let fileData = yield {\n",
              "      promise: fileDataPromise,\n",
              "      response: {\n",
              "        action: 'continue',\n",
              "      }\n",
              "    };\n",
              "\n",
              "    // Use a chunked sending to avoid message size limits. See b/62115660.\n",
              "    let position = 0;\n",
              "    do {\n",
              "      const length = Math.min(fileData.byteLength - position, MAX_PAYLOAD_SIZE);\n",
              "      const chunk = new Uint8Array(fileData, position, length);\n",
              "      position += length;\n",
              "\n",
              "      const base64 = btoa(String.fromCharCode.apply(null, chunk));\n",
              "      yield {\n",
              "        response: {\n",
              "          action: 'append',\n",
              "          file: file.name,\n",
              "          data: base64,\n",
              "        },\n",
              "      };\n",
              "\n",
              "      let percentDone = fileData.byteLength === 0 ?\n",
              "          100 :\n",
              "          Math.round((position / fileData.byteLength) * 100);\n",
              "      percent.textContent = `${percentDone}% done`;\n",
              "\n",
              "    } while (position < fileData.byteLength);\n",
              "  }\n",
              "\n",
              "  // All done.\n",
              "  yield {\n",
              "    response: {\n",
              "      action: 'complete',\n",
              "    }\n",
              "  };\n",
              "}\n",
              "\n",
              "scope.google = scope.google || {};\n",
              "scope.google.colab = scope.google.colab || {};\n",
              "scope.google.colab._files = {\n",
              "  _uploadFiles,\n",
              "  _uploadFilesContinue,\n",
              "};\n",
              "})(self);\n",
              "</script> "
            ]
          },
          "metadata": {}
        },
        {
          "output_type": "stream",
          "name": "stdout",
          "text": [
            "mkdir: cannot create directory ‘/root/.kaggle’: File exists\n",
            "netflix-prize-data.zip: Skipping, found more recently modified local copy (use --force to force download)\n",
            "Archive:  netflix-prize-data.zip\n",
            "replace README? [y]es, [n]o, [A]ll, [N]one, [r]ename: n\n",
            "replace combined_data_1.txt? [y]es, [n]o, [A]ll, [N]one, [r]ename: n\n",
            "replace combined_data_2.txt? [y]es, [n]o, [A]ll, [N]one, [r]ename: n\n",
            "replace combined_data_3.txt? [y]es, [n]o, [A]ll, [N]one, [r]ename: n\n",
            "replace combined_data_4.txt? [y]es, [n]o, [A]ll, [N]one, [r]ename: n\n",
            "replace movie_titles.csv? [y]es, [n]o, [A]ll, [N]one, [r]ename: n\n",
            "replace probe.txt? [y]es, [n]o, [A]ll, [N]one, [r]ename: n\n",
            "replace qualifying.txt? [y]es, [n]o, [A]ll, [N]one, [r]ename: n\n"
          ]
        }
      ]
    },
    {
      "cell_type": "code",
      "source": [
        "# read the whole dataset \n",
        "# save it into a dict-of-dict format where\n",
        "# ratings[i][j] stores the rating gave to the i-th movie by the j-th user\n",
        "\n",
        "paths = [\n",
        "    'combined_data_1.txt',\n",
        "    'combined_data_2.txt',\n",
        "    'combined_data_3.txt',\n",
        "    'combined_data_4.txt'\n",
        "]\n",
        "\n",
        "movie_id2idx = {}    # a lookup from movie_id to movie_idx\n",
        "user_id2idx  = {}    # a lookup from user_id to user_idx\n",
        "new_movie_idx = 0    # new idx of movies\n",
        "new_user_idx  = 0    # idx of users\n",
        "ratings = {}\n",
        "\n",
        "for path in paths:\n",
        "    lines = open(path, 'r').read().split('\\n')\n",
        "\n",
        "    for line in tqdm(lines):\n",
        "        if line.endswith(':'):\n",
        "            movie_id = int(line[:-1])    # read movie_id\n",
        "            i = new_movie_idx            # set i to new_movie_idx\n",
        "            movie_id2idx[movie_id] = i   # update lookup\n",
        "            assert len(movie_id2idx) == i+1\n",
        "            new_movie_idx += 1\n",
        "\n",
        "            ratings[i] = {}              # add a movie\n",
        "\n",
        "        elif line == '':\n",
        "            continue\n",
        "\n",
        "        else:\n",
        "            user_id, rating, date = line.split(',')  # read a user's rating line\n",
        "            user_id = int(user_id)\n",
        "            rating  = int(rating)\n",
        "\n",
        "            if user_id in user_id2idx:    # lookup user's idx\n",
        "                j = user_id2idx[user_id]\n",
        "            else:\n",
        "                j = new_user_idx          # add one user\n",
        "                user_id2idx[user_id] = j\n",
        "                assert len(user_id2idx) == j+1\n",
        "                new_user_idx += 1\n",
        "\n",
        "            ratings[i][j] = rating        # add a rating"
      ],
      "metadata": {
        "colab": {
          "base_uri": "https://localhost:8080/"
        },
        "id": "BGX1vL86GWGx",
        "outputId": "5578075e-2854-44ec-c546-9c6bc86a6057"
      },
      "execution_count": 2,
      "outputs": [
        {
          "output_type": "stream",
          "name": "stderr",
          "text": [
            "100%|██████████| 24058264/24058264 [00:56<00:00, 429185.50it/s]\n",
            "100%|██████████| 26982303/26982303 [01:04<00:00, 419449.96it/s]\n",
            "100%|██████████| 22605787/22605787 [00:54<00:00, 417427.98it/s]\n",
            "100%|██████████| 26851927/26851927 [01:04<00:00, 415598.77it/s]\n"
          ]
        }
      ]
    },
    {
      "cell_type": "code",
      "source": [
        "# save as pickle\n",
        "pickle.dump(ratings, open('ratings.pkl', 'wb'))\n",
        "pickle.dump(movie_id2idx, open('movie_id2idx.pkl', 'wb'))\n",
        "pickle.dump(user_id2idx, open('user_id2idx.pkl', 'wb'))"
      ],
      "metadata": {
        "id": "n0wkkQXharQg"
      },
      "execution_count": 3,
      "outputs": []
    },
    {
      "cell_type": "code",
      "source": [
        "# save as json\n",
        "json.dump(ratings, open('ratings.json', 'w'))\n",
        "json.dump(movie_id2idx, open('movie_id2idx.json', 'w'))\n",
        "json.dump(user_id2idx, open('user_id2idx.json', 'w'))"
      ],
      "metadata": {
        "id": "0-l0TNsVaZMS"
      },
      "execution_count": 10,
      "outputs": []
    },
    {
      "cell_type": "code",
      "source": [
        "# upload to my google drive\n",
        "# from google.colab import drive\n",
        "# drive.mount('/content/gdrive')\n",
        "# !cp ratings.pkl gdrive/MyDrive/Shared/\n",
        "# !cp ratings.json gdrive/MyDrive/Shared/\n",
        "# !cp *id2idx.* gdrive/MyDrive/Shared/"
      ],
      "metadata": {
        "colab": {
          "base_uri": "https://localhost:8080/"
        },
        "id": "lbsG7BmQer8V",
        "outputId": "e50b4412-48bf-487f-b4eb-4117c967a176"
      },
      "execution_count": 5,
      "outputs": [
        {
          "output_type": "stream",
          "name": "stdout",
          "text": [
            "Mounted at /content/gdrive\n"
          ]
        }
      ]
    },
    {
      "cell_type": "code",
      "source": [],
      "metadata": {
        "id": "vYXemmvwi2yj"
      },
      "execution_count": null,
      "outputs": []
    }
  ]
}